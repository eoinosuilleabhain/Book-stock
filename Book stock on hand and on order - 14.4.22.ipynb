{
 "cells": [
  {
   "cell_type": "code",
   "execution_count": 18,
   "id": "94ddb1e8",
   "metadata": {},
   "outputs": [],
   "source": [
    "import pandas as pd"
   ]
  },
  {
   "cell_type": "markdown",
   "id": "bdba0ad1",
   "metadata": {},
   "source": [
    "Read required files to Pandas"
   ]
  },
  {
   "cell_type": "code",
   "execution_count": 33,
   "id": "fbaf9311",
   "metadata": {},
   "outputs": [],
   "source": [
    "df = pd.read_excel('K:\\EOIN\\Python\\Stock\\items.xlsx')\n",
    "df1 = pd.read_excel('K:\\EOIN\\Python\\Stock\\itemfactors.xlsx')\n",
    "df2 = pd.read_excel('K:\\EOIN\\Python\\Stock\\osqty.xlsx')\n",
    "df3 = pd.read_excel('K:\\EOIN\\Python\\Stock\\shipments.xlsx')\n",
    "df4 = pd.read_excel('K:\\EOIN\\Python\\Stock\\physstock.xlsx')\n",
    "df5 = pd.read_excel('K:\\EOIN\\Python\\Stock\\depletionsequiv.xlsx')\n"
   ]
  },
  {
   "cell_type": "markdown",
   "id": "1ee61db6",
   "metadata": {},
   "source": [
    "Take out item codes that relate to non-stock resale items (Point of sale - POS)"
   ]
  },
  {
   "cell_type": "code",
   "execution_count": 34,
   "id": "a9601da9",
   "metadata": {},
   "outputs": [],
   "source": [
    "df=df.drop(df.index[df['Gen. Prod. Posting Group']=='POS'])"
   ]
  },
  {
   "cell_type": "markdown",
   "id": "f4b23c9a",
   "metadata": {},
   "source": [
    "In order to merge files on item number any in object or string format needs to be amended to int64 (integer/number)"
   ]
  },
  {
   "cell_type": "code",
   "execution_count": 35,
   "id": "a9826bdc",
   "metadata": {},
   "outputs": [],
   "source": [
    "df['No.'] = df['No.'].astype('int64')"
   ]
  },
  {
   "cell_type": "markdown",
   "id": "f99b2aa1",
   "metadata": {},
   "source": [
    "Take out item codes that relate to non-stock resale items (PALLETS)"
   ]
  },
  {
   "cell_type": "code",
   "execution_count": 36,
   "id": "8b33e53d",
   "metadata": {},
   "outputs": [],
   "source": [
    "df2=df2.drop(df2.index[df2['No.']=='PALLETS'])"
   ]
  },
  {
   "cell_type": "code",
   "execution_count": 37,
   "id": "5e94daa1",
   "metadata": {},
   "outputs": [],
   "source": [
    "df2['No.'] = df2['No.'].astype('int64')"
   ]
  },
  {
   "cell_type": "code",
   "execution_count": 38,
   "id": "5eeb0098",
   "metadata": {},
   "outputs": [],
   "source": [
    "df3 = df3.dropna(subset=['Item No.'])\n",
    "df3=df3.drop(df3.index[df3['Item No.']=='Grand Total'])"
   ]
  },
  {
   "cell_type": "code",
   "execution_count": 39,
   "id": "58c21e3a",
   "metadata": {},
   "outputs": [],
   "source": [
    "df3['Item No.'] = df3['Item No.'].astype('int64')"
   ]
  },
  {
   "cell_type": "code",
   "execution_count": 40,
   "id": "0db4d37f",
   "metadata": {},
   "outputs": [],
   "source": [
    "df5=df5.drop(df5.index[df5['Gen. Prod. Posting Group']=='POS'])\n",
    "df5=df5.drop(df5.index[df5['No.']=='Grand Total'])"
   ]
  },
  {
   "cell_type": "code",
   "execution_count": 41,
   "id": "0502ffa1",
   "metadata": {},
   "outputs": [
    {
     "data": {
      "text/plain": [
       "No.                           object\n",
       "Item - Search Description     object\n",
       "Gen. Prod. Posting Group      object\n",
       "Brand Owner                   object\n",
       "JAN                          float64\n",
       "FEB                          float64\n",
       "MAR                          float64\n",
       "APR                          float64\n",
       "MAY                          float64\n",
       "JUN                          float64\n",
       "JUL                          float64\n",
       "AUG                          float64\n",
       "SEP                          float64\n",
       "OCT                          float64\n",
       "NOV                          float64\n",
       "DEC                          float64\n",
       "dtype: object"
      ]
     },
     "execution_count": 41,
     "metadata": {},
     "output_type": "execute_result"
    }
   ],
   "source": [
    "df5.dtypes"
   ]
  },
  {
   "cell_type": "code",
   "execution_count": 42,
   "id": "84a4b319",
   "metadata": {},
   "outputs": [],
   "source": [
    "df5['No.'] = df5['No.'].astype('int64')"
   ]
  },
  {
   "cell_type": "markdown",
   "id": "9333ef57",
   "metadata": {},
   "source": [
    "Create a new column 'phys cases' which relates to book stock on hand"
   ]
  },
  {
   "cell_type": "code",
   "execution_count": 43,
   "id": "3d0aee66",
   "metadata": {},
   "outputs": [],
   "source": [
    "df4['phys cases'] = df4['Sum of Qty Base']/df4['Sum of Qty. per Unit of Measure']"
   ]
  },
  {
   "cell_type": "markdown",
   "id": "4c6eadd0",
   "metadata": {},
   "source": [
    "Group and sum to give one result/line for each item number"
   ]
  },
  {
   "cell_type": "code",
   "execution_count": 45,
   "id": "9ffa73e6",
   "metadata": {},
   "outputs": [],
   "source": [
    "osq=df2.groupby('No.').sum()"
   ]
  },
  {
   "cell_type": "code",
   "execution_count": 46,
   "id": "c63650ea",
   "metadata": {},
   "outputs": [],
   "source": [
    "ship=df3.groupby('Item No.').sum()"
   ]
  },
  {
   "cell_type": "markdown",
   "id": "16700492",
   "metadata": {},
   "source": [
    "Merge depletions with item factors and get phys cases"
   ]
  },
  {
   "cell_type": "code",
   "execution_count": 47,
   "id": "c4921079",
   "metadata": {},
   "outputs": [],
   "source": [
    "phys = df5.merge(df1, on='No.', how='outer')"
   ]
  },
  {
   "cell_type": "markdown",
   "id": "d8648dfc",
   "metadata": {},
   "source": [
    "Use item factors to convert equivalent cases to physical cases"
   ]
  },
  {
   "cell_type": "code",
   "execution_count": 48,
   "id": "ead30f89",
   "metadata": {},
   "outputs": [],
   "source": [
    "phys['JAN phys'] = phys['JAN'] / phys['Factor']\n",
    "phys['FEB phys'] = phys['FEB'] / phys['Factor']\n",
    "phys['MAR phys'] = phys['MAR'] / phys['Factor']\n",
    "phys['APR phys'] = phys['APR'] / phys['Factor']"
   ]
  },
  {
   "cell_type": "code",
   "execution_count": 49,
   "id": "8a9f031d",
   "metadata": {},
   "outputs": [
    {
     "data": {
      "text/plain": [
       "No.                                  int64\n",
       "Description                         object\n",
       "Brandowner                          object\n",
       "Group                               object\n",
       "Group Description                   object\n",
       "Sum of Qty Base                    float64\n",
       "Sum of Qty. per Unit of Measure      int64\n",
       "Sum of P20                         float64\n",
       "Sum of Valuation                   float64\n",
       "phys cases                         float64\n",
       "dtype: object"
      ]
     },
     "execution_count": 49,
     "metadata": {},
     "output_type": "execute_result"
    }
   ],
   "source": [
    "df4.dtypes"
   ]
  },
  {
   "cell_type": "markdown",
   "id": "d24a4911",
   "metadata": {},
   "source": [
    "Merge dataframes and amended dataframes"
   ]
  },
  {
   "cell_type": "code",
   "execution_count": 51,
   "id": "f3467f54",
   "metadata": {},
   "outputs": [],
   "source": [
    "merge = df.merge(df4, on='No.', how='outer')\\\n",
    "            .merge(osq, on='No.', how='outer')\\\n",
    "            .merge(ship, left_on='No.', right_on='Item No.', how='outer')\\\n",
    "            .merge(phys, on='No.', how='outer')"
   ]
  },
  {
   "cell_type": "markdown",
   "id": "1f1ea7d8",
   "metadata": {},
   "source": [
    "Now just choose columns you require"
   ]
  },
  {
   "cell_type": "code",
   "execution_count": 52,
   "id": "7ba898e3",
   "metadata": {},
   "outputs": [],
   "source": [
    "Finish=merge.loc[: , ('No.', 'Description_x', 'Description_y', 'Brandowner Code_x', 'Brandowner', 'Brandowner Code_y', 'phys cases', 'Outstanding Quantity', 'JAN_y', 'FEB_y', 'MAR_y', 'APR_y', 'No in case', 'cl ' , 'cl in case', 'Factor', 'JAN phys', 'FEB phys', 'MAR phys', 'APR phys')]"
   ]
  },
  {
   "cell_type": "markdown",
   "id": "b6019273",
   "metadata": {},
   "source": [
    "Put zero in every blank cell (NaN)"
   ]
  },
  {
   "cell_type": "code",
   "execution_count": 53,
   "id": "63194413",
   "metadata": {},
   "outputs": [],
   "source": [
    "Final=Finish.fillna(0)"
   ]
  },
  {
   "cell_type": "markdown",
   "id": "7ac97a48",
   "metadata": {},
   "source": [
    "Rename column headings to ease reader understanding"
   ]
  },
  {
   "cell_type": "code",
   "execution_count": 54,
   "id": "815a8946",
   "metadata": {},
   "outputs": [],
   "source": [
    "Final.rename(columns = {'phys cases':'Book stock (phys cases)', 'Outstanding Quantity':'Stock on order (phys cases)', 'JAN_y':'JAN equiv', 'FEB_y':'FEB equiv', 'MAR_y':'MAR equiv', 'APR_y':'APR equiv'}, inplace = True)"
   ]
  },
  {
   "cell_type": "markdown",
   "id": "f5f97149",
   "metadata": {},
   "source": [
    "Now export file to excel"
   ]
  },
  {
   "cell_type": "code",
   "execution_count": 57,
   "id": "a89eb903",
   "metadata": {},
   "outputs": [],
   "source": [
    "Final.to_excel('current book stock.xlsx')"
   ]
  }
 ],
 "metadata": {
  "kernelspec": {
   "display_name": "Python 3 (ipykernel)",
   "language": "python",
   "name": "python3"
  },
  "language_info": {
   "codemirror_mode": {
    "name": "ipython",
    "version": 3
   },
   "file_extension": ".py",
   "mimetype": "text/x-python",
   "name": "python",
   "nbconvert_exporter": "python",
   "pygments_lexer": "ipython3",
   "version": "3.9.7"
  }
 },
 "nbformat": 4,
 "nbformat_minor": 5
}
